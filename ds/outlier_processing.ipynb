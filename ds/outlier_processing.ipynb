{
 "cells": [
  {
   "cell_type": "code",
   "execution_count": 1,
   "id": "10b939fc",
   "metadata": {},
   "outputs": [],
   "source": [
    "import pandas as pd\n",
    "import numpy as np\n",
    "import matplotlib.pyplot as plt\n",
    "import seaborn as sns\n",
    "from scipy import stats\n",
    "import plotly.graph_objects as go\n",
    "import os"
   ]
  },
  {
   "cell_type": "code",
   "execution_count": 2,
   "id": "be4b2d77",
   "metadata": {},
   "outputs": [
    {
     "data": {
      "text/html": [
       "<div>\n",
       "<style scoped>\n",
       "    .dataframe tbody tr th:only-of-type {\n",
       "        vertical-align: middle;\n",
       "    }\n",
       "\n",
       "    .dataframe tbody tr th {\n",
       "        vertical-align: top;\n",
       "    }\n",
       "\n",
       "    .dataframe thead th {\n",
       "        text-align: right;\n",
       "    }\n",
       "</style>\n",
       "<table border=\"1\" class=\"dataframe\">\n",
       "  <thead>\n",
       "    <tr style=\"text-align: right;\">\n",
       "      <th></th>\n",
       "      <th>Timestamp</th>\n",
       "      <th>GHI</th>\n",
       "      <th>DNI</th>\n",
       "      <th>DHI</th>\n",
       "      <th>ModA</th>\n",
       "      <th>ModB</th>\n",
       "      <th>Tamb</th>\n",
       "      <th>RH</th>\n",
       "      <th>WS</th>\n",
       "      <th>WSgust</th>\n",
       "      <th>WSstdev</th>\n",
       "      <th>WD</th>\n",
       "      <th>WDstdev</th>\n",
       "      <th>BP</th>\n",
       "      <th>Cleaning</th>\n",
       "      <th>Precipitation</th>\n",
       "      <th>TModA</th>\n",
       "      <th>TModB</th>\n",
       "      <th>Comments</th>\n",
       "    </tr>\n",
       "  </thead>\n",
       "  <tbody>\n",
       "    <tr>\n",
       "      <th>0</th>\n",
       "      <td>2021-10-30 00:01</td>\n",
       "      <td>-0.7</td>\n",
       "      <td>-0.1</td>\n",
       "      <td>-0.8</td>\n",
       "      <td>0.0</td>\n",
       "      <td>0.0</td>\n",
       "      <td>21.9</td>\n",
       "      <td>99.1</td>\n",
       "      <td>0.0</td>\n",
       "      <td>0.0</td>\n",
       "      <td>0.0</td>\n",
       "      <td>0.0</td>\n",
       "      <td>0.0</td>\n",
       "      <td>1002</td>\n",
       "      <td>0</td>\n",
       "      <td>0.0</td>\n",
       "      <td>22.3</td>\n",
       "      <td>22.6</td>\n",
       "      <td>NaN</td>\n",
       "    </tr>\n",
       "    <tr>\n",
       "      <th>1</th>\n",
       "      <td>2021-10-30 00:02</td>\n",
       "      <td>-0.7</td>\n",
       "      <td>-0.1</td>\n",
       "      <td>-0.8</td>\n",
       "      <td>0.0</td>\n",
       "      <td>0.0</td>\n",
       "      <td>21.9</td>\n",
       "      <td>99.2</td>\n",
       "      <td>0.0</td>\n",
       "      <td>0.0</td>\n",
       "      <td>0.0</td>\n",
       "      <td>0.0</td>\n",
       "      <td>0.0</td>\n",
       "      <td>1002</td>\n",
       "      <td>0</td>\n",
       "      <td>0.0</td>\n",
       "      <td>22.3</td>\n",
       "      <td>22.6</td>\n",
       "      <td>NaN</td>\n",
       "    </tr>\n",
       "    <tr>\n",
       "      <th>2</th>\n",
       "      <td>2021-10-30 00:03</td>\n",
       "      <td>-0.7</td>\n",
       "      <td>-0.1</td>\n",
       "      <td>-0.8</td>\n",
       "      <td>0.0</td>\n",
       "      <td>0.0</td>\n",
       "      <td>21.9</td>\n",
       "      <td>99.2</td>\n",
       "      <td>0.0</td>\n",
       "      <td>0.0</td>\n",
       "      <td>0.0</td>\n",
       "      <td>0.0</td>\n",
       "      <td>0.0</td>\n",
       "      <td>1002</td>\n",
       "      <td>0</td>\n",
       "      <td>0.0</td>\n",
       "      <td>22.3</td>\n",
       "      <td>22.6</td>\n",
       "      <td>NaN</td>\n",
       "    </tr>\n",
       "    <tr>\n",
       "      <th>3</th>\n",
       "      <td>2021-10-30 00:04</td>\n",
       "      <td>-0.7</td>\n",
       "      <td>0.0</td>\n",
       "      <td>-0.8</td>\n",
       "      <td>0.0</td>\n",
       "      <td>0.0</td>\n",
       "      <td>21.9</td>\n",
       "      <td>99.3</td>\n",
       "      <td>0.0</td>\n",
       "      <td>0.0</td>\n",
       "      <td>0.0</td>\n",
       "      <td>0.0</td>\n",
       "      <td>0.0</td>\n",
       "      <td>1002</td>\n",
       "      <td>0</td>\n",
       "      <td>0.1</td>\n",
       "      <td>22.3</td>\n",
       "      <td>22.6</td>\n",
       "      <td>NaN</td>\n",
       "    </tr>\n",
       "    <tr>\n",
       "      <th>4</th>\n",
       "      <td>2021-10-30 00:05</td>\n",
       "      <td>-0.7</td>\n",
       "      <td>-0.1</td>\n",
       "      <td>-0.8</td>\n",
       "      <td>0.0</td>\n",
       "      <td>0.0</td>\n",
       "      <td>21.9</td>\n",
       "      <td>99.3</td>\n",
       "      <td>0.0</td>\n",
       "      <td>0.0</td>\n",
       "      <td>0.0</td>\n",
       "      <td>0.0</td>\n",
       "      <td>0.0</td>\n",
       "      <td>1002</td>\n",
       "      <td>0</td>\n",
       "      <td>0.0</td>\n",
       "      <td>22.3</td>\n",
       "      <td>22.6</td>\n",
       "      <td>NaN</td>\n",
       "    </tr>\n",
       "  </tbody>\n",
       "</table>\n",
       "</div>"
      ],
      "text/plain": [
       "          Timestamp  GHI  DNI  DHI  ModA  ModB  Tamb    RH   WS  WSgust  \\\n",
       "0  2021-10-30 00:01 -0.7 -0.1 -0.8   0.0   0.0  21.9  99.1  0.0     0.0   \n",
       "1  2021-10-30 00:02 -0.7 -0.1 -0.8   0.0   0.0  21.9  99.2  0.0     0.0   \n",
       "2  2021-10-30 00:03 -0.7 -0.1 -0.8   0.0   0.0  21.9  99.2  0.0     0.0   \n",
       "3  2021-10-30 00:04 -0.7  0.0 -0.8   0.0   0.0  21.9  99.3  0.0     0.0   \n",
       "4  2021-10-30 00:05 -0.7 -0.1 -0.8   0.0   0.0  21.9  99.3  0.0     0.0   \n",
       "\n",
       "   WSstdev   WD  WDstdev    BP  Cleaning  Precipitation  TModA  TModB  \\\n",
       "0      0.0  0.0      0.0  1002         0            0.0   22.3   22.6   \n",
       "1      0.0  0.0      0.0  1002         0            0.0   22.3   22.6   \n",
       "2      0.0  0.0      0.0  1002         0            0.0   22.3   22.6   \n",
       "3      0.0  0.0      0.0  1002         0            0.1   22.3   22.6   \n",
       "4      0.0  0.0      0.0  1002         0            0.0   22.3   22.6   \n",
       "\n",
       "   Comments  \n",
       "0       NaN  \n",
       "1       NaN  \n",
       "2       NaN  \n",
       "3       NaN  \n",
       "4       NaN  "
      ]
     },
     "execution_count": 2,
     "metadata": {},
     "output_type": "execute_result"
    }
   ],
   "source": [
    "# load data\n",
    "df = pd.read_csv('sierraleone-bumbuna.csv')\n",
    "df.head() # show top 5 rows"
   ]
  },
  {
   "cell_type": "code",
   "execution_count": 4,
   "id": "ebfd4f57",
   "metadata": {},
   "outputs": [],
   "source": [
    "# Columns to check for negative values\n",
    "columns_to_clean = ['GHI', 'DNI', 'DHI', 'WS', 'WSgust']\n",
    "\n",
    "# Replace negatives with NaN\n",
    "df[columns_to_clean] = df[columns_to_clean].apply(lambda x: x.where(x >= 0, np.nan))"
   ]
  },
  {
   "cell_type": "code",
   "execution_count": 7,
   "id": "54c72ea2",
   "metadata": {},
   "outputs": [
    {
     "name": "stdout",
     "output_type": "stream",
     "text": [
      "Missing Values:\n",
      " GHI       0\n",
      "DNI       0\n",
      "DHI       0\n",
      "WS        0\n",
      "WSgust    0\n",
      "ModA      0\n",
      "ModB      0\n",
      "dtype: int64\n"
     ]
    }
   ],
   "source": [
    "# Count missing values in key columns\n",
    "missing = df[columns_to_clean + ['ModA', 'ModB']].isnull().sum()\n",
    "print(\"Missing Values:\\n\", missing)"
   ]
  },
  {
   "cell_type": "code",
   "execution_count": 6,
   "id": "1687234c",
   "metadata": {},
   "outputs": [],
   "source": [
    "# Impute with median\n",
    "for col in columns_to_clean + ['ModA', 'ModB']:\n",
    "    median = df[col].median()\n",
    "    df[col].fillna(median, inplace=True)"
   ]
  },
  {
   "cell_type": "code",
   "execution_count": null,
   "id": "ba7e3c84",
   "metadata": {},
   "outputs": [
    {
     "name": "stdout",
     "output_type": "stream",
     "text": [
      "Found 15092 outlier rows.\n"
     ]
    }
   ],
   "source": [
    "# Columns for outlier detection\n",
    "# outlier_columns = ['GHI', 'DNI', 'DHI', 'ModA', 'ModB', 'WS', 'WSgust']\n",
    "\n",
    "# # Calculate Z-scores\n",
    "# z_scores = np.abs(stats.zscore(df[outlier_columns]))\n",
    "\n",
    "# # Flag rows with any |Z| > 3\n",
    "# outlier_rows = (z_scores > 3).any(axis=1)\n",
    "# print(f\"Found {outlier_rows.sum()} outlier rows.\")"
   ]
  },
  {
   "cell_type": "code",
   "execution_count": null,
   "id": "336a919e",
   "metadata": {},
   "outputs": [],
   "source": [
    "# Replace outliers with median\n",
    "# for col in outlier_columns:\n",
    "#     median = df[col].median()\n",
    "#     df.loc[z_scores[col] > 3, col] = median"
   ]
  },
  {
   "cell_type": "code",
   "execution_count": 28,
   "id": "219e30ad",
   "metadata": {},
   "outputs": [
    {
     "name": "stdout",
     "output_type": "stream",
     "text": [
      "Remaining outlier rows: 0\n"
     ]
    }
   ],
   "source": [
    "# Sample data\n",
    "# df = pd.read_csv(...)\n",
    "\n",
    "outlier_columns = ['GHI', 'DNI', 'DHI', 'ModA', 'ModB', 'WS', 'WSgust']\n",
    "\n",
    "# --- STEP 1: For each column, compute its own Z-scores and replace >3 with the median ---\n",
    "for col in outlier_columns:\n",
    "    # compute z-scores *just* for this column\n",
    "    col_z = np.abs(stats.zscore(df[col].astype(float), nan_policy='omit'))\n",
    "    \n",
    "    # find outlier mask\n",
    "    mask = col_z > 3\n",
    "    \n",
    "    # count and report\n",
    "    n_out = mask.sum()\n",
    "    if n_out:\n",
    "        print(f\"Column {col!r}: replacing {n_out} outliers with median\")\n",
    "\n",
    "    # replace in df\n",
    "    median = df.loc[~mask, col].median()   # median of the non-outliers is optional but common\n",
    "    df.loc[mask, col] = median\n",
    "\n",
    "# --- STEP 2: (Optional) Verify that there are no more |Z|>3 outliers left ---\n",
    "# Recompute overall check if you like:\n",
    "new_z = np.abs(stats.zscore(df[outlier_columns].astype(float), nan_policy='omit'))\n",
    "print(\"Remaining outlier rows:\", (new_z > 3).any(axis=1).sum())\n"
   ]
  },
  {
   "cell_type": "code",
   "execution_count": null,
   "id": "169fb8c9",
   "metadata": {},
   "outputs": [],
   "source": [
    "df.to_csv('data/cleaned.csv', index=False)"
   ]
  }
 ],
 "metadata": {
  "kernelspec": {
   "display_name": "base",
   "language": "python",
   "name": "python3"
  },
  "language_info": {
   "codemirror_mode": {
    "name": "ipython",
    "version": 3
   },
   "file_extension": ".py",
   "mimetype": "text/x-python",
   "name": "python",
   "nbconvert_exporter": "python",
   "pygments_lexer": "ipython3",
   "version": "3.11.5"
  }
 },
 "nbformat": 4,
 "nbformat_minor": 5
}
