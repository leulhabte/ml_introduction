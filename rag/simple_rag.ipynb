{
 "cells": [
  {
   "cell_type": "markdown",
   "id": "79e885b4-e952-48d3-bf00-0d6d33d954f2",
   "metadata": {},
   "source": [
    "## RAG Automation\n",
    "\n",
    "1. ### Loading Data\n",
    "   1. Textloader\n",
    "   2. Webloader\n",
    "   3. Pdfloader"
   ]
  },
  {
   "cell_type": "code",
   "execution_count": 4,
   "id": "be195e6f-f668-4e67-9be8-dd6874108364",
   "metadata": {},
   "outputs": [
    {
     "name": "stdout",
     "output_type": "stream",
     "text": [
      "Requirement already satisfied: langchain-community in /home/leul/anaconda3/envs/ml_env/lib/python3.9/site-packages (0.3.24)\n",
      "Requirement already satisfied: langchain-core<1.0.0,>=0.3.59 in /home/leul/anaconda3/envs/ml_env/lib/python3.9/site-packages (from langchain-community) (0.3.59)\n",
      "Requirement already satisfied: langchain<1.0.0,>=0.3.25 in /home/leul/anaconda3/envs/ml_env/lib/python3.9/site-packages (from langchain-community) (0.3.25)\n",
      "Requirement already satisfied: SQLAlchemy<3,>=1.4 in /home/leul/anaconda3/envs/ml_env/lib/python3.9/site-packages (from langchain-community) (2.0.39)\n",
      "Requirement already satisfied: requests<3,>=2 in /home/leul/anaconda3/envs/ml_env/lib/python3.9/site-packages (from langchain-community) (2.32.3)\n",
      "Requirement already satisfied: PyYAML>=5.3 in /home/leul/anaconda3/envs/ml_env/lib/python3.9/site-packages (from langchain-community) (6.0)\n",
      "Requirement already satisfied: aiohttp<4.0.0,>=3.8.3 in /home/leul/anaconda3/envs/ml_env/lib/python3.9/site-packages (from langchain-community) (3.11.10)\n",
      "Requirement already satisfied: tenacity!=8.4.0,<10,>=8.1.0 in /home/leul/anaconda3/envs/ml_env/lib/python3.9/site-packages (from langchain-community) (9.1.2)\n",
      "Requirement already satisfied: dataclasses-json<0.7,>=0.5.7 in /home/leul/anaconda3/envs/ml_env/lib/python3.9/site-packages (from langchain-community) (0.6.5)\n",
      "Requirement already satisfied: pydantic-settings<3.0.0,>=2.4.0 in /home/leul/anaconda3/envs/ml_env/lib/python3.9/site-packages (from langchain-community) (2.9.1)\n",
      "Requirement already satisfied: langsmith<0.4,>=0.1.125 in /home/leul/anaconda3/envs/ml_env/lib/python3.9/site-packages (from langchain-community) (0.2.11)\n",
      "Requirement already satisfied: httpx-sse<1.0.0,>=0.4.0 in /home/leul/anaconda3/envs/ml_env/lib/python3.9/site-packages (from langchain-community) (0.4.0)\n",
      "Requirement already satisfied: numpy>=1.26.2 in /home/leul/anaconda3/envs/ml_env/lib/python3.9/site-packages (from langchain-community) (1.26.4)\n",
      "Requirement already satisfied: aiohappyeyeballs>=2.3.0 in /home/leul/anaconda3/envs/ml_env/lib/python3.9/site-packages (from aiohttp<4.0.0,>=3.8.3->langchain-community) (2.6.1)\n",
      "Requirement already satisfied: aiosignal>=1.1.2 in /home/leul/anaconda3/envs/ml_env/lib/python3.9/site-packages (from aiohttp<4.0.0,>=3.8.3->langchain-community) (1.3.2)\n",
      "Requirement already satisfied: attrs>=17.3.0 in /home/leul/anaconda3/envs/ml_env/lib/python3.9/site-packages (from aiohttp<4.0.0,>=3.8.3->langchain-community) (25.3.0)\n",
      "Requirement already satisfied: frozenlist>=1.1.1 in /home/leul/anaconda3/envs/ml_env/lib/python3.9/site-packages (from aiohttp<4.0.0,>=3.8.3->langchain-community) (1.5.0)\n",
      "Requirement already satisfied: multidict<7.0,>=4.5 in /home/leul/anaconda3/envs/ml_env/lib/python3.9/site-packages (from aiohttp<4.0.0,>=3.8.3->langchain-community) (6.1.0)\n",
      "Requirement already satisfied: propcache>=0.2.0 in /home/leul/anaconda3/envs/ml_env/lib/python3.9/site-packages (from aiohttp<4.0.0,>=3.8.3->langchain-community) (0.3.1)\n",
      "Requirement already satisfied: yarl<2.0,>=1.17.0 in /home/leul/anaconda3/envs/ml_env/lib/python3.9/site-packages (from aiohttp<4.0.0,>=3.8.3->langchain-community) (1.18.0)\n",
      "Requirement already satisfied: async-timeout<6.0,>=4.0 in /home/leul/anaconda3/envs/ml_env/lib/python3.9/site-packages (from aiohttp<4.0.0,>=3.8.3->langchain-community) (4.0.3)\n",
      "Requirement already satisfied: marshmallow<4.0.0,>=3.18.0 in /home/leul/anaconda3/envs/ml_env/lib/python3.9/site-packages (from dataclasses-json<0.7,>=0.5.7->langchain-community) (3.19.0)\n",
      "Requirement already satisfied: typing-inspect<1,>=0.4.0 in /home/leul/anaconda3/envs/ml_env/lib/python3.9/site-packages (from dataclasses-json<0.7,>=0.5.7->langchain-community) (0.9.0)\n",
      "Requirement already satisfied: langchain-text-splitters<1.0.0,>=0.3.8 in /home/leul/anaconda3/envs/ml_env/lib/python3.9/site-packages (from langchain<1.0.0,>=0.3.25->langchain-community) (0.3.8)\n",
      "Requirement already satisfied: pydantic<3.0.0,>=2.7.4 in /home/leul/anaconda3/envs/ml_env/lib/python3.9/site-packages (from langchain<1.0.0,>=0.3.25->langchain-community) (2.10.1)\n",
      "Requirement already satisfied: jsonpatch<2.0,>=1.33 in /home/leul/anaconda3/envs/ml_env/lib/python3.9/site-packages (from langchain-core<1.0.0,>=0.3.59->langchain-community) (1.33)\n",
      "Requirement already satisfied: packaging<25,>=23.2 in /home/leul/anaconda3/envs/ml_env/lib/python3.9/site-packages (from langchain-core<1.0.0,>=0.3.59->langchain-community) (24.2)\n",
      "Requirement already satisfied: typing-extensions>=4.7 in /home/leul/anaconda3/envs/ml_env/lib/python3.9/site-packages (from langchain-core<1.0.0,>=0.3.59->langchain-community) (4.13.2)\n",
      "Requirement already satisfied: jsonpointer>=1.9 in /home/leul/anaconda3/envs/ml_env/lib/python3.9/site-packages (from jsonpatch<2.0,>=1.33->langchain-core<1.0.0,>=0.3.59->langchain-community) (3.0.0)\n",
      "Requirement already satisfied: httpx<1,>=0.23.0 in /home/leul/anaconda3/envs/ml_env/lib/python3.9/site-packages (from langsmith<0.4,>=0.1.125->langchain-community) (0.28.1)\n",
      "Requirement already satisfied: orjson<4.0.0,>=3.9.14 in /home/leul/anaconda3/envs/ml_env/lib/python3.9/site-packages (from langsmith<0.4,>=0.1.125->langchain-community) (3.10.14)\n",
      "Requirement already satisfied: requests-toolbelt<2.0.0,>=1.0.0 in /home/leul/anaconda3/envs/ml_env/lib/python3.9/site-packages (from langsmith<0.4,>=0.1.125->langchain-community) (1.0.0)\n",
      "Requirement already satisfied: anyio in /home/leul/anaconda3/envs/ml_env/lib/python3.9/site-packages (from httpx<1,>=0.23.0->langsmith<0.4,>=0.1.125->langchain-community) (3.7.1)\n",
      "Requirement already satisfied: certifi in /home/leul/anaconda3/envs/ml_env/lib/python3.9/site-packages (from httpx<1,>=0.23.0->langsmith<0.4,>=0.1.125->langchain-community) (2025.4.26)\n",
      "Requirement already satisfied: httpcore==1.* in /home/leul/anaconda3/envs/ml_env/lib/python3.9/site-packages (from httpx<1,>=0.23.0->langsmith<0.4,>=0.1.125->langchain-community) (1.0.2)\n",
      "Requirement already satisfied: idna in /home/leul/anaconda3/envs/ml_env/lib/python3.9/site-packages (from httpx<1,>=0.23.0->langsmith<0.4,>=0.1.125->langchain-community) (3.10)\n",
      "Requirement already satisfied: h11<0.15,>=0.13 in /home/leul/anaconda3/envs/ml_env/lib/python3.9/site-packages (from httpcore==1.*->httpx<1,>=0.23.0->langsmith<0.4,>=0.1.125->langchain-community) (0.14.0)\n",
      "Requirement already satisfied: annotated-types>=0.6.0 in /home/leul/anaconda3/envs/ml_env/lib/python3.9/site-packages (from pydantic<3.0.0,>=2.7.4->langchain<1.0.0,>=0.3.25->langchain-community) (0.7.0)\n",
      "Requirement already satisfied: pydantic-core==2.27.1 in /home/leul/anaconda3/envs/ml_env/lib/python3.9/site-packages (from pydantic<3.0.0,>=2.7.4->langchain<1.0.0,>=0.3.25->langchain-community) (2.27.1)\n",
      "Requirement already satisfied: python-dotenv>=0.21.0 in /home/leul/anaconda3/envs/ml_env/lib/python3.9/site-packages (from pydantic-settings<3.0.0,>=2.4.0->langchain-community) (1.1.0)\n",
      "Requirement already satisfied: typing-inspection>=0.4.0 in /home/leul/anaconda3/envs/ml_env/lib/python3.9/site-packages (from pydantic-settings<3.0.0,>=2.4.0->langchain-community) (0.4.0)\n",
      "Requirement already satisfied: charset_normalizer<4,>=2 in /home/leul/anaconda3/envs/ml_env/lib/python3.9/site-packages (from requests<3,>=2->langchain-community) (3.3.2)\n",
      "Requirement already satisfied: urllib3<3,>=1.21.1 in /home/leul/anaconda3/envs/ml_env/lib/python3.9/site-packages (from requests<3,>=2->langchain-community) (1.26.15)\n",
      "Requirement already satisfied: greenlet!=0.4.17 in /home/leul/anaconda3/envs/ml_env/lib/python3.9/site-packages (from SQLAlchemy<3,>=1.4->langchain-community) (3.1.1)\n",
      "Requirement already satisfied: mypy-extensions>=0.3.0 in /home/leul/anaconda3/envs/ml_env/lib/python3.9/site-packages (from typing-inspect<1,>=0.4.0->dataclasses-json<0.7,>=0.5.7->langchain-community) (1.0.0)\n",
      "Requirement already satisfied: sniffio>=1.1 in /home/leul/anaconda3/envs/ml_env/lib/python3.9/site-packages (from anyio->httpx<1,>=0.23.0->langsmith<0.4,>=0.1.125->langchain-community) (1.3.1)\n",
      "Requirement already satisfied: exceptiongroup in /home/leul/anaconda3/envs/ml_env/lib/python3.9/site-packages (from anyio->httpx<1,>=0.23.0->langsmith<0.4,>=0.1.125->langchain-community) (1.2.2)\n"
     ]
    }
   ],
   "source": [
    "!pip install langchain-community"
   ]
  },
  {
   "cell_type": "code",
   "execution_count": null,
   "id": "32bd9ff9-e329-499e-b2dd-4e554c967d4e",
   "metadata": {},
   "outputs": [
    {
     "data": {
      "text/plain": [
       "[Document(metadata={'source': 'sample.txt'}, page_content='The Future of Artificial Intelligence in Healthcare\\n\\nIntroduction\\n\\nArtificial intelligence (AI) is transforming industries worldwide, and healthcare is no exception. With the ability to analyze vast amounts of data, automate processes, and provide insights, AI is becoming an essential tool in improving patient outcomes, reducing costs, and enhancing operational efficiency. This article explores the current state of AI in healthcare, its benefits, challenges, and future prospects.\\n\\nCurrent Applications of AI in Healthcare\\n\\n1. Diagnostic Support\\n\\nAI-powered diagnostic tools, such as image recognition systems for radiology, can detect diseases with high accuracy, assisting doctors in making faster and more accurate diagnoses.\\n\\n2. Predictive Analytics\\n\\nHospitals use AI to predict patient outcomes, identify high-risk patients, and prevent hospital readmissions. Machine learning models analyze patient data, including medical history and lifestyle factors, to forecast health risks.\\n\\n3. Robotic Surgery\\n\\nAI-driven robotic systems offer enhanced precision in surgeries, reducing human error. These systems can assist surgeons in performing complex procedures with improved outcomes.\\n\\n4. Virtual Health Assistants\\n\\nAI-powered chatbots and virtual assistants provide 24/7 support to patients, answering medical questions, scheduling appointments, and reminding patients to take medication.\\n\\nBenefits of AI in Healthcare\\n\\nEnhanced Diagnostic Accuracy: AI algorithms can analyze complex data patterns that may be missed by human practitioners.\\n\\nIncreased Efficiency: Automation reduces administrative tasks, allowing healthcare professionals to focus on patient care.\\n\\nPersonalized Treatment: AI enables personalized treatment plans based on patient-specific data, improving outcomes.\\n\\nChallenges of AI in Healthcare\\n\\nData Privacy and Security: The use of patient data in AI systems raises concerns about data breaches and privacy.\\n\\nRegulatory Compliance: Ensuring that AI systems comply with healthcare regulations can be complex.\\n\\nBias in Algorithms: AI systems may inherit biases from their training data, leading to unequal treatment of patients.\\n\\nThe Future of AI in Healthcare\\n\\nAs AI technology continues to evolve, its impact on healthcare will only grow. Future developments may include:\\n\\nAI-Powered Drug Discovery: Accelerating the discovery of new drugs through advanced data analysis.\\n\\nEnhanced Remote Monitoring: Using AI to continuously monitor patients with chronic conditions.\\n\\nIntegration with Electronic Health Records (EHRs): Streamlining patient data management for better care coordination.\\n\\nConclusion\\n\\nAI is revolutionizing healthcare, offering new possibilities for improving patient care, reducing costs, and enhancing operational efficiency. While challenges remain, the continued development and ethical implementation of AI promise a future where healthcare is more precise, personalized, and accessible to all.\\n\\n')]"
      ]
     },
     "execution_count": 2,
     "metadata": {},
     "output_type": "execute_result"
    }
   ],
   "source": [
    "# Text loader\n",
    "from langchain_community.document_loaders import TextLoader\n",
    "textLoader = TextLoader(\"sample.txt\").load()\n",
    "textLoader"
   ]
  },
  {
   "cell_type": "code",
   "execution_count": 7,
   "id": "ff07a80f-1698-485d-953e-892bbdf6cda6",
   "metadata": {},
   "outputs": [
    {
     "name": "stderr",
     "output_type": "stream",
     "text": [
      "/home/leul/anaconda3/envs/ml_env/lib/python3.9/site-packages/urllib3/connectionpool.py:1045: InsecureRequestWarning: Unverified HTTPS request is being made to host 'www.wikipedia.org'. Adding certificate verification is strongly advised. See: https://urllib3.readthedocs.io/en/1.26.x/advanced-usage.html#ssl-warnings\n",
      "  warnings.warn(\n"
     ]
    },
    {
     "data": {
      "text/plain": [
       "'\\n\\n\\n\\nWikipedia\\n\\n\\n\\n\\n\\n\\n\\n\\n\\n\\n\\n\\n\\n\\n\\n\\n\\n\\n\\n\\n\\n\\nWikipedia\\n\\nThe Free Encyclopedia\\n\\n\\n\\n\\n\\n\\nEnglish\\n6,974,000+ articl'"
      ]
     },
     "execution_count": 7,
     "metadata": {},
     "output_type": "execute_result"
    }
   ],
   "source": [
    "# Web loader\n",
    "from langchain_community.document_loaders import WebBaseLoader\n",
    "loader = WebBaseLoader('https://www.wikipedia.org/')\n",
    "loader.requests_kwargs = {'verify': False}\n",
    "data = loader.load()\n",
    "data[0].page_content[:100]"
   ]
  },
  {
   "cell_type": "code",
   "execution_count": 18,
   "id": "d7a55939",
   "metadata": {},
   "outputs": [
    {
     "data": {
      "text/plain": [
       "[Document(metadata={'producer': 'pdfTeX-1.40.20', 'creator': 'LaTeX with hyperref', 'creationdate': '2020-11-04T06:19:07+00:00', 'author': 'Author', 'keywords': '', 'moddate': '2020-11-04T07:24:14+01:00', 'subject': '', 'title': 'Title', 'trapped': '/False', 'rgid': 'PB:348446595_AS:979780811882502@1610609357829', 'source': 'sample.pdf', 'total_pages': 243, 'page': 0, 'page_label': '1'}, page_content='See discussions, stats, and author profiles for this publication at: https://www.researchgate.net/publication/348446595\\nGame Development Research\\nBook · November 2020\\nCITATIONS\\n10\\nREADS\\n27,904\\n1 author:\\nHenrik Engström\\nUniversity of Skövde\\n84 PUBLICATIONS\\xa0\\xa0\\xa01,148 CITATIONS\\xa0\\xa0\\xa0\\nSEE PROFILE\\nAll content following this page was uploaded by Henrik Engström on 14 January 2021.\\nThe user has requested enhancement of the downloaded file.'),\n",
       " Document(metadata={'producer': 'pdfTeX-1.40.20', 'creator': 'LaTeX with hyperref', 'creationdate': '2020-11-04T06:19:07+00:00', 'author': 'Author', 'keywords': '', 'moddate': '2020-11-04T07:24:14+01:00', 'subject': '', 'title': 'Title', 'trapped': '/False', 'rgid': 'PB:348446595_AS:979780811882502@1610609357829', 'source': 'sample.pdf', 'total_pages': 243, 'page': 1, 'page_label': '2'}, page_content='Game Development\\nResearch\\nHenrik Engström'),\n",
       " Document(metadata={'producer': 'pdfTeX-1.40.20', 'creator': 'LaTeX with hyperref', 'creationdate': '2020-11-04T06:19:07+00:00', 'author': 'Author', 'keywords': '', 'moddate': '2020-11-04T07:24:14+01:00', 'subject': '', 'title': 'Title', 'trapped': '/False', 'rgid': 'PB:348446595_AS:979780811882502@1610609357829', 'source': 'sample.pdf', 'total_pages': 243, 'page': 2, 'page_label': '3'}, page_content=''),\n",
       " Document(metadata={'producer': 'pdfTeX-1.40.20', 'creator': 'LaTeX with hyperref', 'creationdate': '2020-11-04T06:19:07+00:00', 'author': 'Author', 'keywords': '', 'moddate': '2020-11-04T07:24:14+01:00', 'subject': '', 'title': 'Title', 'trapped': '/False', 'rgid': 'PB:348446595_AS:979780811882502@1610609357829', 'source': 'sample.pdf', 'total_pages': 243, 'page': 3, 'page_label': '4'}, page_content='GAME DEVELOPMENT RESEARCH')]"
      ]
     },
     "execution_count": 18,
     "metadata": {},
     "output_type": "execute_result"
    }
   ],
   "source": [
    "# PDF Loader\n",
    "from langchain_community.document_loaders import PyPDFLoader\n",
    "loader = PyPDFLoader(\"sample.pdf\")\n",
    "pdfData = loader.load()\n",
    "pdfData[:4]"
   ]
  },
  {
   "cell_type": "code",
   "execution_count": null,
   "id": "6410c3f6",
   "metadata": {},
   "outputs": [
    {
     "data": {
      "text/plain": [
       "[Document(metadata={'producer': 'pdfTeX-1.40.20', 'creator': 'LaTeX with hyperref', 'creationdate': '2020-11-04T06:19:07+00:00', 'author': 'Author', 'keywords': '', 'moddate': '2020-11-04T07:24:14+01:00', 'subject': '', 'title': 'Title', 'trapped': '/False', 'rgid': 'PB:348446595_AS:979780811882502@1610609357829', 'source': 'sample.pdf', 'total_pages': 243, 'page': 0, 'page_label': '1'}, page_content='See discussions, stats, and author profiles for this publication at: https://www.researchgate.net/publication/348446595\\nGame Development Research\\nBook · November 2020\\nCITATIONS\\n10\\nREADS\\n27,904\\n1 author:\\nHenrik Engström\\nUniversity of Skövde\\n84 PUBLICATIONS\\xa0\\xa0\\xa01,148 CITATIONS\\xa0\\xa0\\xa0\\nSEE PROFILE\\nAll content following this page was uploaded by Henrik Engström on 14 January 2021.\\nThe user has requested enhancement of the downloaded file.'),\n",
       " Document(metadata={'producer': 'pdfTeX-1.40.20', 'creator': 'LaTeX with hyperref', 'creationdate': '2020-11-04T06:19:07+00:00', 'author': 'Author', 'keywords': '', 'moddate': '2020-11-04T07:24:14+01:00', 'subject': '', 'title': 'Title', 'trapped': '/False', 'rgid': 'PB:348446595_AS:979780811882502@1610609357829', 'source': 'sample.pdf', 'total_pages': 243, 'page': 1, 'page_label': '2'}, page_content='Game Development\\nResearch\\nHenrik Engström'),\n",
       " Document(metadata={'producer': 'pdfTeX-1.40.20', 'creator': 'LaTeX with hyperref', 'creationdate': '2020-11-04T06:19:07+00:00', 'author': 'Author', 'keywords': '', 'moddate': '2020-11-04T07:24:14+01:00', 'subject': '', 'title': 'Title', 'trapped': '/False', 'rgid': 'PB:348446595_AS:979780811882502@1610609357829', 'source': 'sample.pdf', 'total_pages': 243, 'page': 3, 'page_label': '4'}, page_content='GAME DEVELOPMENT RESEARCH'),\n",
       " Document(metadata={'producer': 'pdfTeX-1.40.20', 'creator': 'LaTeX with hyperref', 'creationdate': '2020-11-04T06:19:07+00:00', 'author': 'Author', 'keywords': '', 'moddate': '2020-11-04T07:24:14+01:00', 'subject': '', 'title': 'Title', 'trapped': '/False', 'rgid': 'PB:348446595_AS:979780811882502@1610609357829', 'source': 'sample.pdf', 'total_pages': 243, 'page': 4, 'page_label': '5'}, page_content='GAME DEVELOPMENT RESEARCH\\nPublished by the University of Skövde, Sweden\\nISBN 978-91-984918-7-6 (print), 978-91-984918-8-3 (digital)\\nFirst edition, November 3, 2020\\n©2020 Henrik Engström\\nKeywords: game development; research overview; production studies;\\nstudio studies; software engineering; management of creativity;\\ninterdisciplinarity; game production; game user experience; GUX;\\ngame user research; GUR; game design; game publishing; game\\nanalytics; game industry; serious games\\nAbout this Book\\nThis book was created within the Game Hub Scandinavia 2.0 project.\\nProject id: NYPS20201849, EU Interreg Öresund-Kattegat-Skagerrak.\\nImage credits\\nUnless explicitly stated otherwise, photos are by Neimi Engström.\\nSeveral ﬁgures have been created using yEd Graph Editor.\\nPermission to use this book\\nThis work can be used and cited freely.\\nNo further reproduction or distribution is allowed without explicit\\npermission.'),\n",
       " Document(metadata={'producer': 'pdfTeX-1.40.20', 'creator': 'LaTeX with hyperref', 'creationdate': '2020-11-04T06:19:07+00:00', 'author': 'Author', 'keywords': '', 'moddate': '2020-11-04T07:24:14+01:00', 'subject': '', 'title': 'Title', 'trapped': '/False', 'rgid': 'PB:348446595_AS:979780811882502@1610609357829', 'source': 'sample.pdf', 'total_pages': 243, 'page': 5, 'page_label': '6'}, page_content='Contents\\n1 Introduction . . . . . . . . . . . . . . . . . . . . . . . . . . . . . . . . . . . . . 1\\n1.1 Structure and aim of this book 6\\n1.2 The gap 8\\n1.3 Deﬁnitions and scope 12\\n1.3.1 Game . . . . . . . . . . . . . . . . . . . . . . . . . . . . . . . . . . . . . . . . . . 12\\n1.3.2 Development . . . . . . . . . . . . . . . . . . . . . . . . . . . . . . . . . . . 14\\n1.3.3 Research . . . . . . . . . . . . . . . . . . . . . . . . . . . . . . . . . . . . . . . 18\\n1.3.4 Game development research . . . . . . . . . . . . . . . . . . . . . 22\\n1.4 A brief history of games and research into these 24\\n1.4.1 Analogue games . . . . . . . . . . . . . . . . . . . . . . . . . . . . . . . . 25\\n1.4.2 Digital games . . . . . . . . . . . . . . . . . . . . . . . . . . . . . . . . . . . 26\\n1.4.3 Digital game research . . . . . . . . . . . . . . . . . . . . . . . . . . . . 29\\n1.4.4 Serious games, educational games and gamiﬁcation . 31')]"
      ]
     },
     "execution_count": 17,
     "metadata": {},
     "output_type": "execute_result"
    }
   ],
   "source": [
    "# Splitting Data\n",
    "from langchain_text_splitters import RecursiveCharacterTextSplitter\n",
    "text_splitter = RecursiveCharacterTextSplitter(chunk_size=1000, chunk_overlap=200)\n",
    "split_document = text_splitter.split_documents(pdfData)\n",
    "split_document[:5]"
   ]
  },
  {
   "cell_type": "code",
   "execution_count": null,
   "id": "e3b180f7",
   "metadata": {},
   "outputs": [],
   "source": [
    "from langchain_ollama import OllamaEmbeddings\n",
    "embeddings = OllamaEmbeddings(model=\"mxbai-embed-large\")\n",
    "\n",
    "single_vector = embeddings.embed_query(\"What is the capital of France?\")\n",
    "single_vector"
   ]
  },
  {
   "cell_type": "code",
   "execution_count": 24,
   "id": "25266927",
   "metadata": {},
   "outputs": [
    {
     "data": {
      "text/plain": [
       "['12b22f67-a697-4583-ae9d-db291b856f54',\n",
       " '56ebb081-2009-44fd-8835-93f79e3ce871',\n",
       " 'fd47497b-8e43-45cb-a4d7-5936f483119d',\n",
       " '9f12dc3b-8611-4dbd-a1e3-de9c0daf9049',\n",
       " '5f070d2f-88bb-41d1-a47a-3f797d39623c',\n",
       " '9f434836-db3f-45a9-bc6f-d20815a70a48',\n",
       " 'a256eca6-7b2a-4ca4-a693-162e755e86db',\n",
       " 'aa0c7efa-9f3d-40f0-9988-d62032c45b02',\n",
       " 'ac840e27-7fbf-4c21-a9b9-5e4b8298d11b',\n",
       " '67199217-678b-4fa7-9a7f-321a97eff854',\n",
       " '05d5360c-a8fa-4862-82c4-be4dca556558',\n",
       " '27999ba0-5cac-466a-a487-11fe5206e240',\n",
       " 'f18b573e-e1c8-4c9a-acdf-989058166628',\n",
       " 'caaff79a-ba50-4872-b283-05a0743bafd7',\n",
       " 'c06124be-7638-463b-9145-dcc64c4cae0b',\n",
       " '22f66723-4a40-4969-af6a-3431ee6c5dca',\n",
       " '2ca80c14-b59d-422d-afc7-f92b5734f6b5',\n",
       " 'bc64d142-068b-4d8f-a7ab-b1db3b402d4b',\n",
       " '1b91c1f0-1245-4b36-b965-06980bff003d',\n",
       " '350f731f-e3c1-4693-a8d3-592e4f9ba077',\n",
       " '7a95235d-1aa1-4f0e-b876-daa7404eba5b',\n",
       " 'dceaddce-30e2-4c88-9877-dc3814ea473a',\n",
       " 'ec6439a9-570b-4da1-9854-cb84078b469d',\n",
       " 'a6d88203-b5ab-4010-aecf-5d02dcd9c26a',\n",
       " 'bda5dc79-cfbe-4d59-9999-37869c9f240a',\n",
       " '28eaf3ef-255c-412c-ada0-c6f9ae46944d',\n",
       " 'd76f26fd-934a-4154-8532-40a7e4d7f379',\n",
       " 'b58f6478-8479-47ee-89ad-ce952d5675be',\n",
       " 'f68b3674-c3b0-4812-9647-4d1603454924',\n",
       " 'e6015e38-8d8d-47c4-8b35-93e22ceb351c',\n",
       " '73a7442e-1c74-4810-9df7-16e7dbab6716',\n",
       " '1a2c4d01-0da1-49be-8e50-2ecddf8a2e78',\n",
       " '56ae5245-7666-41fa-b1f5-2ef3db7b5a99',\n",
       " '3aa983a3-0a13-4af7-8dab-41d2eeb2239c',\n",
       " '5bb76488-6438-40b9-bbba-e463129f605e',\n",
       " '9b027f3b-6d44-416b-a08c-5325d4530284',\n",
       " 'd0aa67da-4816-4c19-9b86-1a389c141a81',\n",
       " '9f9e3c1d-1a93-4b42-8fe5-7b548f5c40d5',\n",
       " 'f1558e34-3dc1-44e8-afe2-5404f7b78a07',\n",
       " '8033914d-b59a-4014-a130-9b6cec6ca222',\n",
       " '5da214a5-4a8e-45bf-b859-5fe03865745e',\n",
       " 'd18a17cb-9e3f-42ac-93e9-b1aab39ba690',\n",
       " '395d873a-d817-4084-b491-d1694d2ab3ff',\n",
       " '18b7e22c-fc9e-4bd3-9e52-4af1b1aa4660',\n",
       " '8513d4d8-46ea-40c0-a173-9f9a92c97739',\n",
       " '05fdd791-d58d-4960-b80c-e57f6d3dc4cd',\n",
       " '7e3da768-c18d-4349-a47e-c12c70222fa2',\n",
       " '6aa4b376-ed3e-4df6-a94a-a076df94643f',\n",
       " 'b473f82d-f326-4b65-8c01-6ad5bea9d84c',\n",
       " '9afa8b09-c4df-44e8-918b-8a5af3e11acd']"
      ]
     },
     "execution_count": 24,
     "metadata": {},
     "output_type": "execute_result"
    }
   ],
   "source": [
    "from langchain_chroma import Chroma\n",
    "vector_store = Chroma(\n",
    "    collection_name=\"vector_store_chroma\",\n",
    "    embedding_function=embeddings,\n",
    "    persist_directory=\"./chroma_langchain_db\"\n",
    ")\n",
    "vector_store.add_documents(split_document[:50])"
   ]
  },
  {
   "cell_type": "code",
   "execution_count": 38,
   "id": "990e67ff",
   "metadata": {},
   "outputs": [],
   "source": [
    "result = vector_store.similarity_search(\n",
    "    \"who is the autor of the book\",\n",
    ")\n",
    "doc_retriever = vector_store.as_retriever()"
   ]
  },
  {
   "cell_type": "code",
   "execution_count": null,
   "id": "15c00801",
   "metadata": {},
   "outputs": [
    {
     "data": {
      "text/plain": [
       "OllamaLLM(model='gemma3')"
      ]
     },
     "execution_count": 29,
     "metadata": {},
     "output_type": "execute_result"
    }
   ],
   "source": [
    "# Import Ollama LLM model\n",
    "\n",
    "from langchain_ollama import OllamaLLM\n",
    "llm=OllamaLLM(model='gemma3')\n",
    "llm"
   ]
  },
  {
   "cell_type": "code",
   "execution_count": null,
   "id": "ef8ec4b0",
   "metadata": {},
   "outputs": [
    {
     "data": {
      "text/plain": [
       "ChatPromptValue(messages=[HumanMessage(content='\\nAnswer the following question based only on the provided context. \\nThink step by step before providing a detailed answer. \\nI will tip you $1000 if the user finds the answer helpful. \\n<context>\\nHello there! What is the capital of France?\\n</context>\\nQuestion: The input processing', additional_kwargs={}, response_metadata={})])"
      ]
     },
     "execution_count": 37,
     "metadata": {},
     "output_type": "execute_result"
    }
   ],
   "source": [
    "# Define Prompt\n",
    "from langchain_core.prompts import ChatPromptTemplate\n",
    "prompt = ChatPromptTemplate.from_template(\n",
    "(\"\"\"\n",
    "Answer the following question based only on the provided context. \n",
    "Think step by step before providing a detailed answer. \n",
    "<context>\n",
    "{context}\n",
    "</context>\n",
    "Question: {input}\"\"\")\n",
    ")\n",
    "\n",
    "value = prompt.invoke({\n",
    "    \"context\": \"Hello there! What is the capital of France?\",\n",
    "    \"input\": \"The input processing\"\n",
    "})\n",
    "value"
   ]
  },
  {
   "cell_type": "code",
   "execution_count": 39,
   "id": "67fb3ba4",
   "metadata": {},
   "outputs": [],
   "source": [
    "# Chain prompt and LLM\n",
    "from langchain.chains.combine_documents import create_stuff_documents_chain\n",
    "document_chain = create_stuff_documents_chain(llm,prompt)"
   ]
  },
  {
   "cell_type": "code",
   "execution_count": 41,
   "id": "179535d4",
   "metadata": {},
   "outputs": [
    {
     "data": {
      "text/plain": [
       "{'input': 'What is the capital of France?',\n",
       " 'context': [Document(id='05d5360c-a8fa-4862-82c4-be4dca556558', metadata={'source': 'sample.pdf', 'total_pages': 243, 'producer': 'pdfTeX-1.40.20', 'subject': '', 'title': 'Title', 'author': 'Author', 'page': 7, 'keywords': '', 'creationdate': '2020-11-04T06:19:07+00:00', 'rgid': 'PB:348446595_AS:979780811882502@1610609357829', 'creator': 'LaTeX with hyperref', 'page_label': '8', 'moddate': '2020-11-04T07:24:14+01:00', 'trapped': '/False'}, page_content='4.2.5 Summary . . . . . . . . . . . . . . . . . . . . . . . . . . . . . . . . . . . . . . 108\\n4.2.6 Recommended reading . . . . . . . . . . . . . . . . . . . . . . . . . 109\\n4.3 Forums for media production game research 110\\n5 Management and business . . . . . . . . . . . . . . . . . . . . 113\\n5.1 Creativity management 115\\n5.1.1 Research overview . . . . . . . . . . . . . . . . . . . . . . . . . . . . . . 115\\n5.1.2 Recommended reading . . . . . . . . . . . . . . . . . . . . . . . . . 122\\n5.2 Business 124\\n5.2.1 Research overview . . . . . . . . . . . . . . . . . . . . . . . . . . . . . . 124\\n5.2.2 Recommended reading . . . . . . . . . . . . . . . . . . . . . . . . . 127\\n5.3 Publishing and analytics 129\\n5.3.1 Research overview . . . . . . . . . . . . . . . . . . . . . . . . . . . . . . 131\\n5.3.2 Recommended reading . . . . . . . . . . . . . . . . . . . . . . . . . 135\\n5.4 Other aspects 137\\n5.4.1 Recommended reading . . . . . . . . . . . . . . . . . . . . . . . . . 137'),\n",
       "  Document(id='67199217-678b-4fa7-9a7f-321a97eff854', metadata={'source': 'sample.pdf', 'title': 'Title', 'trapped': '/False', 'creator': 'LaTeX with hyperref', 'page': 7, 'rgid': 'PB:348446595_AS:979780811882502@1610609357829', 'creationdate': '2020-11-04T06:19:07+00:00', 'author': 'Author', 'producer': 'pdfTeX-1.40.20', 'subject': '', 'page_label': '8', 'keywords': '', 'moddate': '2020-11-04T07:24:14+01:00', 'total_pages': 243}, page_content='3.3.4 Recommended reading . . . . . . . . . . . . . . . . . . . . . . . . . . 89\\n3.4 Forums for game studies research 91\\n4 Media production . . . . . . . . . . . . . . . . . . . . . . . . . . . . . . 93\\n4.1 Games and narratives 95\\n4.1.1 Research overview . . . . . . . . . . . . . . . . . . . . . . . . . . . . . . . 96\\n4.1.2 Recommended reading . . . . . . . . . . . . . . . . . . . . . . . . . . 98\\n4.2 Various media types and their relation to game\\ndevelopment 100\\n4.2.1 Film, television and games . . . . . . . . . . . . . . . . . . . . . . . 100\\n4.2.2 Theatre and games . . . . . . . . . . . . . . . . . . . . . . . . . . . . . 102\\n4.2.3 Art and games . . . . . . . . . . . . . . . . . . . . . . . . . . . . . . . . . 103\\n4.2.4 Music, audio and games . . . . . . . . . . . . . . . . . . . . . . . . . 105\\n4.2.5 Summary . . . . . . . . . . . . . . . . . . . . . . . . . . . . . . . . . . . . . . 108\\n4.2.6 Recommended reading . . . . . . . . . . . . . . . . . . . . . . . . . 109'),\n",
       "  Document(id='5da214a5-4a8e-45bf-b859-5fe03865745e', metadata={'source': 'sample.pdf', 'keywords': '', 'producer': 'pdfTeX-1.40.20', 'title': 'Title', 'page': 20, 'rgid': 'PB:348446595_AS:979780811882502@1610609357829', 'page_label': '13', 'total_pages': 243, 'trapped': '/False', 'creator': 'LaTeX with hyperref', 'subject': '', 'author': 'Author', 'moddate': '2020-11-04T07:24:14+01:00', 'creationdate': '2020-11-04T06:19:07+00:00'}, page_content='Chapter 1. Introduction\\n1.3 Deﬁnitions and scope\\nTo frame the scope of this book, a deﬁnition of game development\\nresearch is required. In turn, this necessitates a closer look at the\\nindividual concepts, i.e. game, development and research. This\\nexamination is followed by a discussion in which the compound term\\nand the scope of this book are presented.\\n1.3.1 Game\\nWhat does the term game cover? Presenting over 60 deﬁnitions of game\\nfound in the literature, Stenros (2017) discusses their various perspectives\\nand components. Some deﬁnitions see elements such as rules, challenges,\\nclear goals and winning conditions as necessary components of a game.\\nThis means that Sims or creative mode Minecraft may not qualify as\\ngames. For the purposes of this book, it is important to have a deﬁnition\\nwhich includes artefacts that the general public perceives as games. This\\nis achieved by the deﬁnition used by Elias, Garﬁeld and Gutschera (2012,'),\n",
       "  Document(id='ec6439a9-570b-4da1-9854-cb84078b469d', metadata={'keywords': '', 'source': 'sample.pdf', 'title': 'Title', 'rgid': 'PB:348446595_AS:979780811882502@1610609357829', 'page_label': '5', 'subject': '', 'moddate': '2020-11-04T07:24:14+01:00', 'trapped': '/False', 'creationdate': '2020-11-04T06:19:07+00:00', 'page': 12, 'producer': 'pdfTeX-1.40.20', 'author': 'Author', 'creator': 'LaTeX with hyperref', 'total_pages': 243}, page_content='Chapter 1. Introduction\\nKey\\nA     Applied\\nNA  Non-Applied\\nInformation\\nKnowledgeBehaviour\\nUtility\\nEngineering\\nArt\\nScience\\nDesign\\n<     >Culture            Nature\\n<     >Production              Perception\\nPerception &\\nCulture\\nPerception &\\nNature\\nProduction &\\nNature\\nProduction &\\nCulture\\nNA\\nNANA\\nNA\\nA\\nAA\\nA\\nPhilosophy\\nEconomy\\nFigure 1.1: The Krebs Cycle of Creativity (Oxman, 2016) – slightly\\nmodiﬁed. Reproduced in accordance with the CC-BY 4.0 licence.\\n4')],\n",
       " 'answer': 'This question cannot be answered based on the provided context. The text discusses game development research, definitions of “game,” and related concepts. It does not contain any information about the capital of France.'}"
      ]
     },
     "execution_count": 41,
     "metadata": {},
     "output_type": "execute_result"
    }
   ],
   "source": [
    "# Chain the document chain and the retriever\n",
    "from langchain.chains import create_retrieval_chain\n",
    "retrieval_chain = create_retrieval_chain(doc_retriever, document_chain)\n",
    "result = retrieval_chain.invoke({\n",
    "    \"input\": \"What is the capital of France?\"\n",
    "})\n",
    "result"
   ]
  }
 ],
 "metadata": {
  "kernelspec": {
   "display_name": "ml_env",
   "language": "python",
   "name": "python3"
  },
  "language_info": {
   "codemirror_mode": {
    "name": "ipython",
    "version": 3
   },
   "file_extension": ".py",
   "mimetype": "text/x-python",
   "name": "python",
   "nbconvert_exporter": "python",
   "pygments_lexer": "ipython3",
   "version": "3.9.21"
  }
 },
 "nbformat": 4,
 "nbformat_minor": 5
}
